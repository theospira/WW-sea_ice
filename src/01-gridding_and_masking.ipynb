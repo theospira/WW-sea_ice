{
 "cells": [
  {
   "cell_type": "markdown",
   "id": "a9b4460a-d969-41c7-a4fd-5963d8a0d8b0",
   "metadata": {
    "tags": []
   },
   "source": [
    "# import funcs and load hydrographics profiles ds"
   ]
  },
  {
   "cell_type": "code",
   "execution_count": 1,
   "id": "944f7e11-7221-4096-b39e-6899d23b2876",
   "metadata": {},
   "outputs": [],
   "source": [
    "import numpy as np\n",
    "import pandas as pd\n",
    "from scipy import interpolate\n",
    "\n",
    "import xarray as xr\n",
    "import dask.array as da\n",
    "from dask.distributed import Client\n",
    "\n",
    "import matplotlib as mpl\n",
    "import matplotlib.pyplot as plt\n",
    "import matplotlib.colors as mcolors\n",
    "import matplotlib.patches as mpatches # for creating legend\n",
    "import matplotlib.dates as mdates # converts datetime64 to datetime\n",
    "\n",
    "import cartopy\n",
    "import cartopy.crs as ccrs # for plotting\n",
    "import cartopy.feature as cfeature # for map features\n",
    "from cartopy.util import add_cyclic_point # for wrapping map fully - avoiding white line on 0 deg\n",
    "from cartopy.mpl.ticker import LongitudeFormatter, LatitudeFormatter\n",
    "\n",
    "import matplotlib.dates as mdates # converts datetime64 to datetime\n",
    "import matplotlib.gridspec as gridspec # to create grid-shaped combos of axes\n",
    "from mpl_toolkits import mplot3d # 3d plotting tool\n",
    "import cmocean # for nice oceanography colour pallettes\n",
    "\n",
    "#import argopy\n",
    "#from argopy import DataFetcher as ArgoDataFetcher # to load Argo ds directly\n",
    "\n",
    "import os # for finding files\n",
    "\n",
    "import gsw # for conversion functions\n",
    "\n",
    "from tqdm.notebook import tqdm_notebook as tqdm\n",
    "import glob # for downloading data\n",
    "import sys # for path to functions\n",
    "\n",
    "import seaborn as sns\n",
    "\n",
    "sns.set(#font='Franklin Gothic Book',\n",
    "        rc={\n",
    "         'axes.axisbelow': False,\n",
    "         'axes.edgecolor': 'Black',\n",
    "         'axes.facecolor': 'w', \n",
    "                            # '#aeaeae',\n",
    "         'axes.grid': False,\n",
    "         'axes.labelcolor': 'k',\n",
    "         'axes.spines.right': True,\n",
    "         'axes.spines.top': True,\n",
    "         'figure.facecolor': 'white',\n",
    "         'lines.solid_capstyle': 'round',\n",
    "         'patch.edgecolor': 'k',\n",
    "         'patch.force_edgecolor': True,\n",
    "         'text.color': 'k',\n",
    "         'xtick.bottom': True,\n",
    "         'xtick.color': 'k',\n",
    "         'xtick.direction': 'out',\n",
    "         'xtick.top': False,\n",
    "         'ytick.color': 'k',\n",
    "         'ytick.direction': 'out',\n",
    "         'ytick.left': True,\n",
    "         'ytick.right': False},\n",
    "         font_scale=1)\n",
    "mpl.rcParams[\"figure.titlesize\"] = 20\n",
    "mpl.rcParams[\"axes.titlesize\"] = 20\n",
    "mpl.rcParams[\"axes.labelsize\"] = 15\n",
    "mpl.rcParams[\"font.size\"] = 12\n",
    "mpl.rcParams[\"xtick.labelsize\"] = 12\n",
    "mpl.rcParams[\"ytick.labelsize\"] = 12\n",
    "mpl.rcParams[\"ytick.labelright\"] = False\n",
    "\n",
    "from warnings import filterwarnings as fw\n",
    "fw('ignore')\n",
    "\n",
    "# import my own funcs\n",
    "import sys\n",
    "sys.path.append('/home/theospira/notebooks/projects/01-WW_climatology/functions')\n",
    "from plot_formatting import circular_boundary,plot_nice_box\n",
    "from inspection_funcs import boxplot\n",
    "\n",
    "import importlib\n",
    "#importlib.reload(sys.modules['inspection_plot'])\n",
    "\n",
    "path = '/home/theospira/notebooks/projects/01-WW_climatology'"
   ]
  },
  {
   "cell_type": "markdown",
   "id": "245dc6d3-aa88-479a-9f78-51a692868568",
   "metadata": {
    "jp-MarkdownHeadingCollapsed": true
   },
   "source": [
    "# load data"
   ]
  },
  {
   "cell_type": "code",
   "execution_count": 2,
   "id": "3020df44-13c0-4e2c-ba9d-5ba5e93b0a96",
   "metadata": {},
   "outputs": [
    {
     "data": {
      "text/html": [
       "<div><svg style=\"position: absolute; width: 0; height: 0; overflow: hidden\">\n",
       "<defs>\n",
       "<symbol id=\"icon-database\" viewBox=\"0 0 32 32\">\n",
       "<path d=\"M16 0c-8.837 0-16 2.239-16 5v4c0 2.761 7.163 5 16 5s16-2.239 16-5v-4c0-2.761-7.163-5-16-5z\"></path>\n",
       "<path d=\"M16 17c-8.837 0-16-2.239-16-5v6c0 2.761 7.163 5 16 5s16-2.239 16-5v-6c0 2.761-7.163 5-16 5z\"></path>\n",
       "<path d=\"M16 26c-8.837 0-16-2.239-16-5v6c0 2.761 7.163 5 16 5s16-2.239 16-5v-6c0 2.761-7.163 5-16 5z\"></path>\n",
       "</symbol>\n",
       "<symbol id=\"icon-file-text2\" viewBox=\"0 0 32 32\">\n",
       "<path d=\"M28.681 7.159c-0.694-0.947-1.662-2.053-2.724-3.116s-2.169-2.030-3.116-2.724c-1.612-1.182-2.393-1.319-2.841-1.319h-15.5c-1.378 0-2.5 1.121-2.5 2.5v27c0 1.378 1.122 2.5 2.5 2.5h23c1.378 0 2.5-1.122 2.5-2.5v-19.5c0-0.448-0.137-1.23-1.319-2.841zM24.543 5.457c0.959 0.959 1.712 1.825 2.268 2.543h-4.811v-4.811c0.718 0.556 1.584 1.309 2.543 2.268zM28 29.5c0 0.271-0.229 0.5-0.5 0.5h-23c-0.271 0-0.5-0.229-0.5-0.5v-27c0-0.271 0.229-0.5 0.5-0.5 0 0 15.499-0 15.5 0v7c0 0.552 0.448 1 1 1h7v19.5z\"></path>\n",
       "<path d=\"M23 26h-14c-0.552 0-1-0.448-1-1s0.448-1 1-1h14c0.552 0 1 0.448 1 1s-0.448 1-1 1z\"></path>\n",
       "<path d=\"M23 22h-14c-0.552 0-1-0.448-1-1s0.448-1 1-1h14c0.552 0 1 0.448 1 1s-0.448 1-1 1z\"></path>\n",
       "<path d=\"M23 18h-14c-0.552 0-1-0.448-1-1s0.448-1 1-1h14c0.552 0 1 0.448 1 1s-0.448 1-1 1z\"></path>\n",
       "</symbol>\n",
       "</defs>\n",
       "</svg>\n",
       "<style>/* CSS stylesheet for displaying xarray objects in jupyterlab.\n",
       " *\n",
       " */\n",
       "\n",
       ":root {\n",
       "  --xr-font-color0: var(--jp-content-font-color0, rgba(0, 0, 0, 1));\n",
       "  --xr-font-color2: var(--jp-content-font-color2, rgba(0, 0, 0, 0.54));\n",
       "  --xr-font-color3: var(--jp-content-font-color3, rgba(0, 0, 0, 0.38));\n",
       "  --xr-border-color: var(--jp-border-color2, #e0e0e0);\n",
       "  --xr-disabled-color: var(--jp-layout-color3, #bdbdbd);\n",
       "  --xr-background-color: var(--jp-layout-color0, white);\n",
       "  --xr-background-color-row-even: var(--jp-layout-color1, white);\n",
       "  --xr-background-color-row-odd: var(--jp-layout-color2, #eeeeee);\n",
       "}\n",
       "\n",
       "html[theme=dark],\n",
       "body[data-theme=dark],\n",
       "body.vscode-dark {\n",
       "  --xr-font-color0: rgba(255, 255, 255, 1);\n",
       "  --xr-font-color2: rgba(255, 255, 255, 0.54);\n",
       "  --xr-font-color3: rgba(255, 255, 255, 0.38);\n",
       "  --xr-border-color: #1F1F1F;\n",
       "  --xr-disabled-color: #515151;\n",
       "  --xr-background-color: #111111;\n",
       "  --xr-background-color-row-even: #111111;\n",
       "  --xr-background-color-row-odd: #313131;\n",
       "}\n",
       "\n",
       ".xr-wrap {\n",
       "  display: block !important;\n",
       "  min-width: 300px;\n",
       "  max-width: 700px;\n",
       "}\n",
       "\n",
       ".xr-text-repr-fallback {\n",
       "  /* fallback to plain text repr when CSS is not injected (untrusted notebook) */\n",
       "  display: none;\n",
       "}\n",
       "\n",
       ".xr-header {\n",
       "  padding-top: 6px;\n",
       "  padding-bottom: 6px;\n",
       "  margin-bottom: 4px;\n",
       "  border-bottom: solid 1px var(--xr-border-color);\n",
       "}\n",
       "\n",
       ".xr-header > div,\n",
       ".xr-header > ul {\n",
       "  display: inline;\n",
       "  margin-top: 0;\n",
       "  margin-bottom: 0;\n",
       "}\n",
       "\n",
       ".xr-obj-type,\n",
       ".xr-array-name {\n",
       "  margin-left: 2px;\n",
       "  margin-right: 10px;\n",
       "}\n",
       "\n",
       ".xr-obj-type {\n",
       "  color: var(--xr-font-color2);\n",
       "}\n",
       "\n",
       ".xr-sections {\n",
       "  padding-left: 0 !important;\n",
       "  display: grid;\n",
       "  grid-template-columns: 150px auto auto 1fr 20px 20px;\n",
       "}\n",
       "\n",
       ".xr-section-item {\n",
       "  display: contents;\n",
       "}\n",
       "\n",
       ".xr-section-item input {\n",
       "  display: none;\n",
       "}\n",
       "\n",
       ".xr-section-item input + label {\n",
       "  color: var(--xr-disabled-color);\n",
       "}\n",
       "\n",
       ".xr-section-item input:enabled + label {\n",
       "  cursor: pointer;\n",
       "  color: var(--xr-font-color2);\n",
       "}\n",
       "\n",
       ".xr-section-item input:enabled + label:hover {\n",
       "  color: var(--xr-font-color0);\n",
       "}\n",
       "\n",
       ".xr-section-summary {\n",
       "  grid-column: 1;\n",
       "  color: var(--xr-font-color2);\n",
       "  font-weight: 500;\n",
       "}\n",
       "\n",
       ".xr-section-summary > span {\n",
       "  display: inline-block;\n",
       "  padding-left: 0.5em;\n",
       "}\n",
       "\n",
       ".xr-section-summary-in:disabled + label {\n",
       "  color: var(--xr-font-color2);\n",
       "}\n",
       "\n",
       ".xr-section-summary-in + label:before {\n",
       "  display: inline-block;\n",
       "  content: '►';\n",
       "  font-size: 11px;\n",
       "  width: 15px;\n",
       "  text-align: center;\n",
       "}\n",
       "\n",
       ".xr-section-summary-in:disabled + label:before {\n",
       "  color: var(--xr-disabled-color);\n",
       "}\n",
       "\n",
       ".xr-section-summary-in:checked + label:before {\n",
       "  content: '▼';\n",
       "}\n",
       "\n",
       ".xr-section-summary-in:checked + label > span {\n",
       "  display: none;\n",
       "}\n",
       "\n",
       ".xr-section-summary,\n",
       ".xr-section-inline-details {\n",
       "  padding-top: 4px;\n",
       "  padding-bottom: 4px;\n",
       "}\n",
       "\n",
       ".xr-section-inline-details {\n",
       "  grid-column: 2 / -1;\n",
       "}\n",
       "\n",
       ".xr-section-details {\n",
       "  display: none;\n",
       "  grid-column: 1 / -1;\n",
       "  margin-bottom: 5px;\n",
       "}\n",
       "\n",
       ".xr-section-summary-in:checked ~ .xr-section-details {\n",
       "  display: contents;\n",
       "}\n",
       "\n",
       ".xr-array-wrap {\n",
       "  grid-column: 1 / -1;\n",
       "  display: grid;\n",
       "  grid-template-columns: 20px auto;\n",
       "}\n",
       "\n",
       ".xr-array-wrap > label {\n",
       "  grid-column: 1;\n",
       "  vertical-align: top;\n",
       "}\n",
       "\n",
       ".xr-preview {\n",
       "  color: var(--xr-font-color3);\n",
       "}\n",
       "\n",
       ".xr-array-preview,\n",
       ".xr-array-data {\n",
       "  padding: 0 5px !important;\n",
       "  grid-column: 2;\n",
       "}\n",
       "\n",
       ".xr-array-data,\n",
       ".xr-array-in:checked ~ .xr-array-preview {\n",
       "  display: none;\n",
       "}\n",
       "\n",
       ".xr-array-in:checked ~ .xr-array-data,\n",
       ".xr-array-preview {\n",
       "  display: inline-block;\n",
       "}\n",
       "\n",
       ".xr-dim-list {\n",
       "  display: inline-block !important;\n",
       "  list-style: none;\n",
       "  padding: 0 !important;\n",
       "  margin: 0;\n",
       "}\n",
       "\n",
       ".xr-dim-list li {\n",
       "  display: inline-block;\n",
       "  padding: 0;\n",
       "  margin: 0;\n",
       "}\n",
       "\n",
       ".xr-dim-list:before {\n",
       "  content: '(';\n",
       "}\n",
       "\n",
       ".xr-dim-list:after {\n",
       "  content: ')';\n",
       "}\n",
       "\n",
       ".xr-dim-list li:not(:last-child):after {\n",
       "  content: ',';\n",
       "  padding-right: 5px;\n",
       "}\n",
       "\n",
       ".xr-has-index {\n",
       "  font-weight: bold;\n",
       "}\n",
       "\n",
       ".xr-var-list,\n",
       ".xr-var-item {\n",
       "  display: contents;\n",
       "}\n",
       "\n",
       ".xr-var-item > div,\n",
       ".xr-var-item label,\n",
       ".xr-var-item > .xr-var-name span {\n",
       "  background-color: var(--xr-background-color-row-even);\n",
       "  margin-bottom: 0;\n",
       "}\n",
       "\n",
       ".xr-var-item > .xr-var-name:hover span {\n",
       "  padding-right: 5px;\n",
       "}\n",
       "\n",
       ".xr-var-list > li:nth-child(odd) > div,\n",
       ".xr-var-list > li:nth-child(odd) > label,\n",
       ".xr-var-list > li:nth-child(odd) > .xr-var-name span {\n",
       "  background-color: var(--xr-background-color-row-odd);\n",
       "}\n",
       "\n",
       ".xr-var-name {\n",
       "  grid-column: 1;\n",
       "}\n",
       "\n",
       ".xr-var-dims {\n",
       "  grid-column: 2;\n",
       "}\n",
       "\n",
       ".xr-var-dtype {\n",
       "  grid-column: 3;\n",
       "  text-align: right;\n",
       "  color: var(--xr-font-color2);\n",
       "}\n",
       "\n",
       ".xr-var-preview {\n",
       "  grid-column: 4;\n",
       "}\n",
       "\n",
       ".xr-index-preview {\n",
       "  grid-column: 2 / 5;\n",
       "  color: var(--xr-font-color2);\n",
       "}\n",
       "\n",
       ".xr-var-name,\n",
       ".xr-var-dims,\n",
       ".xr-var-dtype,\n",
       ".xr-preview,\n",
       ".xr-attrs dt {\n",
       "  white-space: nowrap;\n",
       "  overflow: hidden;\n",
       "  text-overflow: ellipsis;\n",
       "  padding-right: 10px;\n",
       "}\n",
       "\n",
       ".xr-var-name:hover,\n",
       ".xr-var-dims:hover,\n",
       ".xr-var-dtype:hover,\n",
       ".xr-attrs dt:hover {\n",
       "  overflow: visible;\n",
       "  width: auto;\n",
       "  z-index: 1;\n",
       "}\n",
       "\n",
       ".xr-var-attrs,\n",
       ".xr-var-data,\n",
       ".xr-index-data {\n",
       "  display: none;\n",
       "  background-color: var(--xr-background-color) !important;\n",
       "  padding-bottom: 5px !important;\n",
       "}\n",
       "\n",
       ".xr-var-attrs-in:checked ~ .xr-var-attrs,\n",
       ".xr-var-data-in:checked ~ .xr-var-data,\n",
       ".xr-index-data-in:checked ~ .xr-index-data {\n",
       "  display: block;\n",
       "}\n",
       "\n",
       ".xr-var-data > table {\n",
       "  float: right;\n",
       "}\n",
       "\n",
       ".xr-var-name span,\n",
       ".xr-var-data,\n",
       ".xr-index-name div,\n",
       ".xr-index-data,\n",
       ".xr-attrs {\n",
       "  padding-left: 25px !important;\n",
       "}\n",
       "\n",
       ".xr-attrs,\n",
       ".xr-var-attrs,\n",
       ".xr-var-data,\n",
       ".xr-index-data {\n",
       "  grid-column: 1 / -1;\n",
       "}\n",
       "\n",
       "dl.xr-attrs {\n",
       "  padding: 0;\n",
       "  margin: 0;\n",
       "  display: grid;\n",
       "  grid-template-columns: 125px auto;\n",
       "}\n",
       "\n",
       ".xr-attrs dt,\n",
       ".xr-attrs dd {\n",
       "  padding: 0;\n",
       "  margin: 0;\n",
       "  float: left;\n",
       "  padding-right: 10px;\n",
       "  width: auto;\n",
       "}\n",
       "\n",
       ".xr-attrs dt {\n",
       "  font-weight: normal;\n",
       "  grid-column: 1;\n",
       "}\n",
       "\n",
       ".xr-attrs dt:hover span {\n",
       "  display: inline-block;\n",
       "  background: var(--xr-background-color);\n",
       "  padding-right: 10px;\n",
       "}\n",
       "\n",
       ".xr-attrs dd {\n",
       "  grid-column: 2;\n",
       "  white-space: pre-wrap;\n",
       "  word-break: break-all;\n",
       "}\n",
       "\n",
       ".xr-icon-database,\n",
       ".xr-icon-file-text2,\n",
       ".xr-no-icon {\n",
       "  display: inline-block;\n",
       "  vertical-align: middle;\n",
       "  width: 1em;\n",
       "  height: 1.5em !important;\n",
       "  stroke-width: 0;\n",
       "  stroke: currentColor;\n",
       "  fill: currentColor;\n",
       "}\n",
       "</style><pre class='xr-text-repr-fallback'>&lt;xarray.Dataset&gt;\n",
       "Dimensions:  (n_prof: 592946, pres: 196)\n",
       "Coordinates:\n",
       "  * n_prof   (n_prof) int64 0 1 2 3 4 5 ... 620288 620289 620290 620291 620292\n",
       "  * pres     (pres) int64 10 12 14 16 18 20 22 ... 388 390 392 394 396 398 400\n",
       "    lon      (n_prof) float64 ...\n",
       "    lat      (n_prof) float64 ...\n",
       "    time     (n_prof) datetime64[ns] ...\n",
       "Data variables: (12/22)\n",
       "    temp     (n_prof, pres) float64 ...\n",
       "    psal     (n_prof, pres) float64 ...\n",
       "    dsource  (n_prof) object ...\n",
       "    mld      (n_prof) float64 ...\n",
       "    asal     (n_prof, pres) float32 ...\n",
       "    ctemp    (n_prof, pres) float32 ...\n",
       "    ...       ...\n",
       "    ww_type  (n_prof) float64 ...\n",
       "    ww_n2    (n_prof) float64 ...\n",
       "    thcc     (n_prof) float64 ...\n",
       "    zust     (n_prof) float64 ...\n",
       "    eps      (n_prof) float64 ...\n",
       "    sic      (n_prof) float64 ...\n",
       "Attributes:\n",
       "    description:  Interpolated dataset from 2004 to 2021. Contains MLD from p...</pre><div class='xr-wrap' style='display:none'><div class='xr-header'><div class='xr-obj-type'>xarray.Dataset</div></div><ul class='xr-sections'><li class='xr-section-item'><input id='section-53537cf6-e91b-4bb4-941f-43adf87b0f82' class='xr-section-summary-in' type='checkbox' disabled ><label for='section-53537cf6-e91b-4bb4-941f-43adf87b0f82' class='xr-section-summary'  title='Expand/collapse section'>Dimensions:</label><div class='xr-section-inline-details'><ul class='xr-dim-list'><li><span class='xr-has-index'>n_prof</span>: 592946</li><li><span class='xr-has-index'>pres</span>: 196</li></ul></div><div class='xr-section-details'></div></li><li class='xr-section-item'><input id='section-e909fb24-12b9-4393-badb-262203cf8ab9' class='xr-section-summary-in' type='checkbox'  checked><label for='section-e909fb24-12b9-4393-badb-262203cf8ab9' class='xr-section-summary' >Coordinates: <span>(5)</span></label><div class='xr-section-inline-details'></div><div class='xr-section-details'><ul class='xr-var-list'><li class='xr-var-item'><div class='xr-var-name'><span class='xr-has-index'>n_prof</span></div><div class='xr-var-dims'>(n_prof)</div><div class='xr-var-dtype'>int64</div><div class='xr-var-preview xr-preview'>0 1 2 3 ... 620290 620291 620292</div><input id='attrs-e6e79be5-d444-491b-986e-876481159857' class='xr-var-attrs-in' type='checkbox' disabled><label for='attrs-e6e79be5-d444-491b-986e-876481159857' title='Show/Hide attributes'><svg class='icon xr-icon-file-text2'><use xlink:href='#icon-file-text2'></use></svg></label><input id='data-c4285a85-e10c-4964-a3db-1409fc8a92c6' class='xr-var-data-in' type='checkbox'><label for='data-c4285a85-e10c-4964-a3db-1409fc8a92c6' title='Show/Hide data repr'><svg class='icon xr-icon-database'><use xlink:href='#icon-database'></use></svg></label><div class='xr-var-attrs'><dl class='xr-attrs'></dl></div><div class='xr-var-data'><pre>array([     0,      1,      2, ..., 620290, 620291, 620292])</pre></div></li><li class='xr-var-item'><div class='xr-var-name'><span class='xr-has-index'>pres</span></div><div class='xr-var-dims'>(pres)</div><div class='xr-var-dtype'>int64</div><div class='xr-var-preview xr-preview'>10 12 14 16 18 ... 394 396 398 400</div><input id='attrs-5205f017-53b2-4b7a-b543-e936a49dd39c' class='xr-var-attrs-in' type='checkbox' disabled><label for='attrs-5205f017-53b2-4b7a-b543-e936a49dd39c' title='Show/Hide attributes'><svg class='icon xr-icon-file-text2'><use xlink:href='#icon-file-text2'></use></svg></label><input id='data-ec134b5e-63f2-4246-b1f8-dd495c21311f' class='xr-var-data-in' type='checkbox'><label for='data-ec134b5e-63f2-4246-b1f8-dd495c21311f' title='Show/Hide data repr'><svg class='icon xr-icon-database'><use xlink:href='#icon-database'></use></svg></label><div class='xr-var-attrs'><dl class='xr-attrs'></dl></div><div class='xr-var-data'><pre>array([ 10,  12,  14,  16,  18,  20,  22,  24,  26,  28,  30,  32,  34,  36,\n",
       "        38,  40,  42,  44,  46,  48,  50,  52,  54,  56,  58,  60,  62,  64,\n",
       "        66,  68,  70,  72,  74,  76,  78,  80,  82,  84,  86,  88,  90,  92,\n",
       "        94,  96,  98, 100, 102, 104, 106, 108, 110, 112, 114, 116, 118, 120,\n",
       "       122, 124, 126, 128, 130, 132, 134, 136, 138, 140, 142, 144, 146, 148,\n",
       "       150, 152, 154, 156, 158, 160, 162, 164, 166, 168, 170, 172, 174, 176,\n",
       "       178, 180, 182, 184, 186, 188, 190, 192, 194, 196, 198, 200, 202, 204,\n",
       "       206, 208, 210, 212, 214, 216, 218, 220, 222, 224, 226, 228, 230, 232,\n",
       "       234, 236, 238, 240, 242, 244, 246, 248, 250, 252, 254, 256, 258, 260,\n",
       "       262, 264, 266, 268, 270, 272, 274, 276, 278, 280, 282, 284, 286, 288,\n",
       "       290, 292, 294, 296, 298, 300, 302, 304, 306, 308, 310, 312, 314, 316,\n",
       "       318, 320, 322, 324, 326, 328, 330, 332, 334, 336, 338, 340, 342, 344,\n",
       "       346, 348, 350, 352, 354, 356, 358, 360, 362, 364, 366, 368, 370, 372,\n",
       "       374, 376, 378, 380, 382, 384, 386, 388, 390, 392, 394, 396, 398, 400])</pre></div></li><li class='xr-var-item'><div class='xr-var-name'><span>lon</span></div><div class='xr-var-dims'>(n_prof)</div><div class='xr-var-dtype'>float64</div><div class='xr-var-preview xr-preview'>...</div><input id='attrs-bb918cc7-f913-46f3-b837-6b100091655c' class='xr-var-attrs-in' type='checkbox' disabled><label for='attrs-bb918cc7-f913-46f3-b837-6b100091655c' title='Show/Hide attributes'><svg class='icon xr-icon-file-text2'><use xlink:href='#icon-file-text2'></use></svg></label><input id='data-3fadfa98-1cc3-4b0f-ad99-330e78189446' class='xr-var-data-in' type='checkbox'><label for='data-3fadfa98-1cc3-4b0f-ad99-330e78189446' title='Show/Hide data repr'><svg class='icon xr-icon-database'><use xlink:href='#icon-database'></use></svg></label><div class='xr-var-attrs'><dl class='xr-attrs'></dl></div><div class='xr-var-data'><pre>[592946 values with dtype=float64]</pre></div></li><li class='xr-var-item'><div class='xr-var-name'><span>lat</span></div><div class='xr-var-dims'>(n_prof)</div><div class='xr-var-dtype'>float64</div><div class='xr-var-preview xr-preview'>...</div><input id='attrs-272558e1-78c8-4aa8-a989-46e08dfd835c' class='xr-var-attrs-in' type='checkbox' disabled><label for='attrs-272558e1-78c8-4aa8-a989-46e08dfd835c' title='Show/Hide attributes'><svg class='icon xr-icon-file-text2'><use xlink:href='#icon-file-text2'></use></svg></label><input id='data-1ff5772c-1082-4ecc-8b25-82e1fc6948b9' class='xr-var-data-in' type='checkbox'><label for='data-1ff5772c-1082-4ecc-8b25-82e1fc6948b9' title='Show/Hide data repr'><svg class='icon xr-icon-database'><use xlink:href='#icon-database'></use></svg></label><div class='xr-var-attrs'><dl class='xr-attrs'></dl></div><div class='xr-var-data'><pre>[592946 values with dtype=float64]</pre></div></li><li class='xr-var-item'><div class='xr-var-name'><span>time</span></div><div class='xr-var-dims'>(n_prof)</div><div class='xr-var-dtype'>datetime64[ns]</div><div class='xr-var-preview xr-preview'>...</div><input id='attrs-beceee37-f7e8-46c5-9532-a7c4aed2005b' class='xr-var-attrs-in' type='checkbox' disabled><label for='attrs-beceee37-f7e8-46c5-9532-a7c4aed2005b' title='Show/Hide attributes'><svg class='icon xr-icon-file-text2'><use xlink:href='#icon-file-text2'></use></svg></label><input id='data-a78bcf4b-0aed-4e24-b57a-9b7ffc6bb35f' class='xr-var-data-in' type='checkbox'><label for='data-a78bcf4b-0aed-4e24-b57a-9b7ffc6bb35f' title='Show/Hide data repr'><svg class='icon xr-icon-database'><use xlink:href='#icon-database'></use></svg></label><div class='xr-var-attrs'><dl class='xr-attrs'></dl></div><div class='xr-var-data'><pre>[592946 values with dtype=datetime64[ns]]</pre></div></li></ul></div></li><li class='xr-section-item'><input id='section-33b1460b-58ae-455b-97d2-5fab25fcca19' class='xr-section-summary-in' type='checkbox'  ><label for='section-33b1460b-58ae-455b-97d2-5fab25fcca19' class='xr-section-summary' >Data variables: <span>(22)</span></label><div class='xr-section-inline-details'></div><div class='xr-section-details'><ul class='xr-var-list'><li class='xr-var-item'><div class='xr-var-name'><span>temp</span></div><div class='xr-var-dims'>(n_prof, pres)</div><div class='xr-var-dtype'>float64</div><div class='xr-var-preview xr-preview'>...</div><input id='attrs-86cdd4a7-e994-4b6c-ac1e-448a60b2d667' class='xr-var-attrs-in' type='checkbox' disabled><label for='attrs-86cdd4a7-e994-4b6c-ac1e-448a60b2d667' title='Show/Hide attributes'><svg class='icon xr-icon-file-text2'><use xlink:href='#icon-file-text2'></use></svg></label><input id='data-c59dc38a-4c75-4114-a070-9fcd9ccd2d04' class='xr-var-data-in' type='checkbox'><label for='data-c59dc38a-4c75-4114-a070-9fcd9ccd2d04' title='Show/Hide data repr'><svg class='icon xr-icon-database'><use xlink:href='#icon-database'></use></svg></label><div class='xr-var-attrs'><dl class='xr-attrs'></dl></div><div class='xr-var-data'><pre>[116217416 values with dtype=float64]</pre></div></li><li class='xr-var-item'><div class='xr-var-name'><span>psal</span></div><div class='xr-var-dims'>(n_prof, pres)</div><div class='xr-var-dtype'>float64</div><div class='xr-var-preview xr-preview'>...</div><input id='attrs-edf603c9-854a-4485-a68c-6fe4fa5bf8a9' class='xr-var-attrs-in' type='checkbox' disabled><label for='attrs-edf603c9-854a-4485-a68c-6fe4fa5bf8a9' title='Show/Hide attributes'><svg class='icon xr-icon-file-text2'><use xlink:href='#icon-file-text2'></use></svg></label><input id='data-f1930620-db32-482e-9f5d-a8554e3fc991' class='xr-var-data-in' type='checkbox'><label for='data-f1930620-db32-482e-9f5d-a8554e3fc991' title='Show/Hide data repr'><svg class='icon xr-icon-database'><use xlink:href='#icon-database'></use></svg></label><div class='xr-var-attrs'><dl class='xr-attrs'></dl></div><div class='xr-var-data'><pre>[116217416 values with dtype=float64]</pre></div></li><li class='xr-var-item'><div class='xr-var-name'><span>dsource</span></div><div class='xr-var-dims'>(n_prof)</div><div class='xr-var-dtype'>object</div><div class='xr-var-preview xr-preview'>...</div><input id='attrs-b5ed528b-2ce3-4c73-9faa-987058614826' class='xr-var-attrs-in' type='checkbox' disabled><label for='attrs-b5ed528b-2ce3-4c73-9faa-987058614826' title='Show/Hide attributes'><svg class='icon xr-icon-file-text2'><use xlink:href='#icon-file-text2'></use></svg></label><input id='data-d0c56dd7-8a11-4947-ae38-e4f42b93ae12' class='xr-var-data-in' type='checkbox'><label for='data-d0c56dd7-8a11-4947-ae38-e4f42b93ae12' title='Show/Hide data repr'><svg class='icon xr-icon-database'><use xlink:href='#icon-database'></use></svg></label><div class='xr-var-attrs'><dl class='xr-attrs'></dl></div><div class='xr-var-data'><pre>[592946 values with dtype=object]</pre></div></li><li class='xr-var-item'><div class='xr-var-name'><span>mld</span></div><div class='xr-var-dims'>(n_prof)</div><div class='xr-var-dtype'>float64</div><div class='xr-var-preview xr-preview'>...</div><input id='attrs-fabc7d31-e1e1-45ba-b061-e834ef426a39' class='xr-var-attrs-in' type='checkbox' disabled><label for='attrs-fabc7d31-e1e1-45ba-b061-e834ef426a39' title='Show/Hide attributes'><svg class='icon xr-icon-file-text2'><use xlink:href='#icon-file-text2'></use></svg></label><input id='data-2f3e9c0d-cc90-45a6-8698-8e5bd7f96bbb' class='xr-var-data-in' type='checkbox'><label for='data-2f3e9c0d-cc90-45a6-8698-8e5bd7f96bbb' title='Show/Hide data repr'><svg class='icon xr-icon-database'><use xlink:href='#icon-database'></use></svg></label><div class='xr-var-attrs'><dl class='xr-attrs'></dl></div><div class='xr-var-data'><pre>[592946 values with dtype=float64]</pre></div></li><li class='xr-var-item'><div class='xr-var-name'><span>asal</span></div><div class='xr-var-dims'>(n_prof, pres)</div><div class='xr-var-dtype'>float32</div><div class='xr-var-preview xr-preview'>...</div><input id='attrs-9a45b323-2eed-4e94-9daf-43d9273abc4a' class='xr-var-attrs-in' type='checkbox' ><label for='attrs-9a45b323-2eed-4e94-9daf-43d9273abc4a' title='Show/Hide attributes'><svg class='icon xr-icon-file-text2'><use xlink:href='#icon-file-text2'></use></svg></label><input id='data-cbc6635f-3cca-4c2e-80ef-1236a2f73696' class='xr-var-data-in' type='checkbox'><label for='data-cbc6635f-3cca-4c2e-80ef-1236a2f73696' title='Show/Hide data repr'><svg class='icon xr-icon-database'><use xlink:href='#icon-database'></use></svg></label><div class='xr-var-attrs'><dl class='xr-attrs'><dt><span>long_name :</span></dt><dd>Absolute Salinity</dd><dt><span>standard_name :</span></dt><dd>ASAL</dd><dt><span>units :</span></dt><dd>g/kg</dd></dl></div><div class='xr-var-data'><pre>[116217416 values with dtype=float32]</pre></div></li><li class='xr-var-item'><div class='xr-var-name'><span>ctemp</span></div><div class='xr-var-dims'>(n_prof, pres)</div><div class='xr-var-dtype'>float32</div><div class='xr-var-preview xr-preview'>...</div><input id='attrs-97428a33-351d-4458-b99f-2a449615febe' class='xr-var-attrs-in' type='checkbox' ><label for='attrs-97428a33-351d-4458-b99f-2a449615febe' title='Show/Hide attributes'><svg class='icon xr-icon-file-text2'><use xlink:href='#icon-file-text2'></use></svg></label><input id='data-2d2b3d3f-481e-42fa-aedd-ede72664da7c' class='xr-var-data-in' type='checkbox'><label for='data-2d2b3d3f-481e-42fa-aedd-ede72664da7c' title='Show/Hide data repr'><svg class='icon xr-icon-database'><use xlink:href='#icon-database'></use></svg></label><div class='xr-var-attrs'><dl class='xr-attrs'><dt><span>long_name :</span></dt><dd>Conservative Temperature</dd><dt><span>standard_name :</span></dt><dd>CTEMP</dd><dt><span>units :</span></dt><dd>degrees_Celcius</dd></dl></div><div class='xr-var-data'><pre>[116217416 values with dtype=float32]</pre></div></li><li class='xr-var-item'><div class='xr-var-name'><span>rho</span></div><div class='xr-var-dims'>(n_prof, pres)</div><div class='xr-var-dtype'>float32</div><div class='xr-var-preview xr-preview'>...</div><input id='attrs-27354f5b-a0dc-4ed2-ac18-d876044b939d' class='xr-var-attrs-in' type='checkbox' ><label for='attrs-27354f5b-a0dc-4ed2-ac18-d876044b939d' title='Show/Hide attributes'><svg class='icon xr-icon-file-text2'><use xlink:href='#icon-file-text2'></use></svg></label><input id='data-09e8642c-337e-4e6f-b1ec-9f487ec8e634' class='xr-var-data-in' type='checkbox'><label for='data-09e8642c-337e-4e6f-b1ec-9f487ec8e634' title='Show/Hide data repr'><svg class='icon xr-icon-database'><use xlink:href='#icon-database'></use></svg></label><div class='xr-var-attrs'><dl class='xr-attrs'><dt><span>long_name :</span></dt><dd>In-situ Density</dd><dt><span>standard_name :</span></dt><dd>rho</dd><dt><span>units :</span></dt><dd>kg/m^-3</dd></dl></div><div class='xr-var-data'><pre>[116217416 values with dtype=float32]</pre></div></li><li class='xr-var-item'><div class='xr-var-name'><span>mlp</span></div><div class='xr-var-dims'>(n_prof)</div><div class='xr-var-dtype'>float64</div><div class='xr-var-preview xr-preview'>...</div><input id='attrs-7263f1ab-25e2-4a18-be1d-c25d323f3f4c' class='xr-var-attrs-in' type='checkbox' disabled><label for='attrs-7263f1ab-25e2-4a18-be1d-c25d323f3f4c' title='Show/Hide attributes'><svg class='icon xr-icon-file-text2'><use xlink:href='#icon-file-text2'></use></svg></label><input id='data-3e0d9a07-75d4-44cc-89c0-e70084343678' class='xr-var-data-in' type='checkbox'><label for='data-3e0d9a07-75d4-44cc-89c0-e70084343678' title='Show/Hide data repr'><svg class='icon xr-icon-database'><use xlink:href='#icon-database'></use></svg></label><div class='xr-var-attrs'><dl class='xr-attrs'></dl></div><div class='xr-var-data'><pre>[592946 values with dtype=float64]</pre></div></li><li class='xr-var-item'><div class='xr-var-name'><span>sig</span></div><div class='xr-var-dims'>(n_prof, pres)</div><div class='xr-var-dtype'>float64</div><div class='xr-var-preview xr-preview'>...</div><input id='attrs-14bf0b84-602b-45cf-8072-b7dcbe530896' class='xr-var-attrs-in' type='checkbox' ><label for='attrs-14bf0b84-602b-45cf-8072-b7dcbe530896' title='Show/Hide attributes'><svg class='icon xr-icon-file-text2'><use xlink:href='#icon-file-text2'></use></svg></label><input id='data-9e91b954-7fac-4130-9355-002cfb0ff654' class='xr-var-data-in' type='checkbox'><label for='data-9e91b954-7fac-4130-9355-002cfb0ff654' title='Show/Hide data repr'><svg class='icon xr-icon-database'><use xlink:href='#icon-database'></use></svg></label><div class='xr-var-attrs'><dl class='xr-attrs'><dt><span>long_name :</span></dt><dd>Potential Density</dd><dt><span>standard_name :</span></dt><dd>sigma</dd><dt><span>units :</span></dt><dd>kg/m^-3</dd></dl></div><div class='xr-var-data'><pre>[116217416 values with dtype=float64]</pre></div></li><li class='xr-var-item'><div class='xr-var-name'><span>n2</span></div><div class='xr-var-dims'>(n_prof, pres)</div><div class='xr-var-dtype'>float64</div><div class='xr-var-preview xr-preview'>...</div><input id='attrs-640254c3-7fac-4c56-9c6d-2f3cdb0e246d' class='xr-var-attrs-in' type='checkbox' disabled><label for='attrs-640254c3-7fac-4c56-9c6d-2f3cdb0e246d' title='Show/Hide attributes'><svg class='icon xr-icon-file-text2'><use xlink:href='#icon-file-text2'></use></svg></label><input id='data-39f182d0-8c5b-4334-9532-cd6793d0e0b9' class='xr-var-data-in' type='checkbox'><label for='data-39f182d0-8c5b-4334-9532-cd6793d0e0b9' title='Show/Hide data repr'><svg class='icon xr-icon-database'><use xlink:href='#icon-database'></use></svg></label><div class='xr-var-attrs'><dl class='xr-attrs'></dl></div><div class='xr-var-data'><pre>[116217416 values with dtype=float64]</pre></div></li><li class='xr-var-item'><div class='xr-var-name'><span>up_bd</span></div><div class='xr-var-dims'>(n_prof)</div><div class='xr-var-dtype'>float64</div><div class='xr-var-preview xr-preview'>...</div><input id='attrs-ec5b2dd8-1426-4ada-b84b-870a506226eb' class='xr-var-attrs-in' type='checkbox' disabled><label for='attrs-ec5b2dd8-1426-4ada-b84b-870a506226eb' title='Show/Hide attributes'><svg class='icon xr-icon-file-text2'><use xlink:href='#icon-file-text2'></use></svg></label><input id='data-c12f7ec8-a845-40ba-8aef-f766c71c5091' class='xr-var-data-in' type='checkbox'><label for='data-c12f7ec8-a845-40ba-8aef-f766c71c5091' title='Show/Hide data repr'><svg class='icon xr-icon-database'><use xlink:href='#icon-database'></use></svg></label><div class='xr-var-attrs'><dl class='xr-attrs'></dl></div><div class='xr-var-data'><pre>[592946 values with dtype=float64]</pre></div></li><li class='xr-var-item'><div class='xr-var-name'><span>ww_cp</span></div><div class='xr-var-dims'>(n_prof)</div><div class='xr-var-dtype'>float64</div><div class='xr-var-preview xr-preview'>...</div><input id='attrs-b48ae8af-526d-4700-9422-ef4b31e8611e' class='xr-var-attrs-in' type='checkbox' disabled><label for='attrs-b48ae8af-526d-4700-9422-ef4b31e8611e' title='Show/Hide attributes'><svg class='icon xr-icon-file-text2'><use xlink:href='#icon-file-text2'></use></svg></label><input id='data-a3aa3ab1-5451-4aa1-ab95-7a2014e4d663' class='xr-var-data-in' type='checkbox'><label for='data-a3aa3ab1-5451-4aa1-ab95-7a2014e4d663' title='Show/Hide data repr'><svg class='icon xr-icon-database'><use xlink:href='#icon-database'></use></svg></label><div class='xr-var-attrs'><dl class='xr-attrs'></dl></div><div class='xr-var-data'><pre>[592946 values with dtype=float64]</pre></div></li><li class='xr-var-item'><div class='xr-var-name'><span>ww_ct</span></div><div class='xr-var-dims'>(n_prof)</div><div class='xr-var-dtype'>float64</div><div class='xr-var-preview xr-preview'>...</div><input id='attrs-b13d01a2-e562-47ef-a66a-8e141a468feb' class='xr-var-attrs-in' type='checkbox' disabled><label for='attrs-b13d01a2-e562-47ef-a66a-8e141a468feb' title='Show/Hide attributes'><svg class='icon xr-icon-file-text2'><use xlink:href='#icon-file-text2'></use></svg></label><input id='data-0d045f8f-feff-49c8-ad03-d5399fe2ac0d' class='xr-var-data-in' type='checkbox'><label for='data-0d045f8f-feff-49c8-ad03-d5399fe2ac0d' title='Show/Hide data repr'><svg class='icon xr-icon-database'><use xlink:href='#icon-database'></use></svg></label><div class='xr-var-attrs'><dl class='xr-attrs'></dl></div><div class='xr-var-data'><pre>[592946 values with dtype=float64]</pre></div></li><li class='xr-var-item'><div class='xr-var-name'><span>sig_c</span></div><div class='xr-var-dims'>(n_prof)</div><div class='xr-var-dtype'>float64</div><div class='xr-var-preview xr-preview'>...</div><input id='attrs-74dda193-b333-46ce-94e8-0983edc985be' class='xr-var-attrs-in' type='checkbox' disabled><label for='attrs-74dda193-b333-46ce-94e8-0983edc985be' title='Show/Hide attributes'><svg class='icon xr-icon-file-text2'><use xlink:href='#icon-file-text2'></use></svg></label><input id='data-ca5645e0-7e1e-4270-b046-fa86cff3a8d1' class='xr-var-data-in' type='checkbox'><label for='data-ca5645e0-7e1e-4270-b046-fa86cff3a8d1' title='Show/Hide data repr'><svg class='icon xr-icon-database'><use xlink:href='#icon-database'></use></svg></label><div class='xr-var-attrs'><dl class='xr-attrs'></dl></div><div class='xr-var-data'><pre>[592946 values with dtype=float64]</pre></div></li><li class='xr-var-item'><div class='xr-var-name'><span>ww_sa</span></div><div class='xr-var-dims'>(n_prof)</div><div class='xr-var-dtype'>float64</div><div class='xr-var-preview xr-preview'>...</div><input id='attrs-a3959c54-7a20-4969-9153-58b4fe75b8be' class='xr-var-attrs-in' type='checkbox' disabled><label for='attrs-a3959c54-7a20-4969-9153-58b4fe75b8be' title='Show/Hide attributes'><svg class='icon xr-icon-file-text2'><use xlink:href='#icon-file-text2'></use></svg></label><input id='data-aae9bd30-63db-427a-8203-0caa059fbf73' class='xr-var-data-in' type='checkbox'><label for='data-aae9bd30-63db-427a-8203-0caa059fbf73' title='Show/Hide data repr'><svg class='icon xr-icon-database'><use xlink:href='#icon-database'></use></svg></label><div class='xr-var-attrs'><dl class='xr-attrs'></dl></div><div class='xr-var-data'><pre>[592946 values with dtype=float64]</pre></div></li><li class='xr-var-item'><div class='xr-var-name'><span>lw_bd</span></div><div class='xr-var-dims'>(n_prof)</div><div class='xr-var-dtype'>float64</div><div class='xr-var-preview xr-preview'>...</div><input id='attrs-9245814f-20b0-46f9-82c0-0bcda29685f9' class='xr-var-attrs-in' type='checkbox' disabled><label for='attrs-9245814f-20b0-46f9-82c0-0bcda29685f9' title='Show/Hide attributes'><svg class='icon xr-icon-file-text2'><use xlink:href='#icon-file-text2'></use></svg></label><input id='data-f9eb6ab1-30a5-4e69-a6c2-6632a4746294' class='xr-var-data-in' type='checkbox'><label for='data-f9eb6ab1-30a5-4e69-a6c2-6632a4746294' title='Show/Hide data repr'><svg class='icon xr-icon-database'><use xlink:href='#icon-database'></use></svg></label><div class='xr-var-attrs'><dl class='xr-attrs'></dl></div><div class='xr-var-data'><pre>[592946 values with dtype=float64]</pre></div></li><li class='xr-var-item'><div class='xr-var-name'><span>ww_type</span></div><div class='xr-var-dims'>(n_prof)</div><div class='xr-var-dtype'>float64</div><div class='xr-var-preview xr-preview'>...</div><input id='attrs-164cf229-8d3f-49cd-a779-6cefa0534e6d' class='xr-var-attrs-in' type='checkbox' disabled><label for='attrs-164cf229-8d3f-49cd-a779-6cefa0534e6d' title='Show/Hide attributes'><svg class='icon xr-icon-file-text2'><use xlink:href='#icon-file-text2'></use></svg></label><input id='data-6ecc7f30-5a35-4ac4-8775-b54a3dccb1d3' class='xr-var-data-in' type='checkbox'><label for='data-6ecc7f30-5a35-4ac4-8775-b54a3dccb1d3' title='Show/Hide data repr'><svg class='icon xr-icon-database'><use xlink:href='#icon-database'></use></svg></label><div class='xr-var-attrs'><dl class='xr-attrs'></dl></div><div class='xr-var-data'><pre>[592946 values with dtype=float64]</pre></div></li><li class='xr-var-item'><div class='xr-var-name'><span>ww_n2</span></div><div class='xr-var-dims'>(n_prof)</div><div class='xr-var-dtype'>float64</div><div class='xr-var-preview xr-preview'>...</div><input id='attrs-bfeceea0-c405-4707-9843-edf84d4ceea5' class='xr-var-attrs-in' type='checkbox' disabled><label for='attrs-bfeceea0-c405-4707-9843-edf84d4ceea5' title='Show/Hide attributes'><svg class='icon xr-icon-file-text2'><use xlink:href='#icon-file-text2'></use></svg></label><input id='data-e09d2362-33c9-4298-8c4a-55540794adb6' class='xr-var-data-in' type='checkbox'><label for='data-e09d2362-33c9-4298-8c4a-55540794adb6' title='Show/Hide data repr'><svg class='icon xr-icon-database'><use xlink:href='#icon-database'></use></svg></label><div class='xr-var-attrs'><dl class='xr-attrs'></dl></div><div class='xr-var-data'><pre>[592946 values with dtype=float64]</pre></div></li><li class='xr-var-item'><div class='xr-var-name'><span>thcc</span></div><div class='xr-var-dims'>(n_prof)</div><div class='xr-var-dtype'>float64</div><div class='xr-var-preview xr-preview'>...</div><input id='attrs-05043a07-1c55-4577-91ec-b8343d3fe29d' class='xr-var-attrs-in' type='checkbox' disabled><label for='attrs-05043a07-1c55-4577-91ec-b8343d3fe29d' title='Show/Hide attributes'><svg class='icon xr-icon-file-text2'><use xlink:href='#icon-file-text2'></use></svg></label><input id='data-6a95e52e-a986-49ba-ab06-e17b38ef5534' class='xr-var-data-in' type='checkbox'><label for='data-6a95e52e-a986-49ba-ab06-e17b38ef5534' title='Show/Hide data repr'><svg class='icon xr-icon-database'><use xlink:href='#icon-database'></use></svg></label><div class='xr-var-attrs'><dl class='xr-attrs'></dl></div><div class='xr-var-data'><pre>[592946 values with dtype=float64]</pre></div></li><li class='xr-var-item'><div class='xr-var-name'><span>zust</span></div><div class='xr-var-dims'>(n_prof)</div><div class='xr-var-dtype'>float64</div><div class='xr-var-preview xr-preview'>...</div><input id='attrs-260c90e8-da9b-4302-896c-0d5443aca44f' class='xr-var-attrs-in' type='checkbox' ><label for='attrs-260c90e8-da9b-4302-896c-0d5443aca44f' title='Show/Hide attributes'><svg class='icon xr-icon-file-text2'><use xlink:href='#icon-file-text2'></use></svg></label><input id='data-26881952-24fb-44b4-b34b-65d72a244335' class='xr-var-data-in' type='checkbox'><label for='data-26881952-24fb-44b4-b34b-65d72a244335' title='Show/Hide data repr'><svg class='icon xr-icon-database'><use xlink:href='#icon-database'></use></svg></label><div class='xr-var-attrs'><dl class='xr-attrs'><dt><span>units :</span></dt><dd>m s**-1</dd><dt><span>long_name :</span></dt><dd>Friction velocity</dd></dl></div><div class='xr-var-data'><pre>[592946 values with dtype=float64]</pre></div></li><li class='xr-var-item'><div class='xr-var-name'><span>eps</span></div><div class='xr-var-dims'>(n_prof)</div><div class='xr-var-dtype'>float64</div><div class='xr-var-preview xr-preview'>...</div><input id='attrs-7af961c3-3526-4bf2-9a89-29235ce153cc' class='xr-var-attrs-in' type='checkbox' ><label for='attrs-7af961c3-3526-4bf2-9a89-29235ce153cc' title='Show/Hide attributes'><svg class='icon xr-icon-file-text2'><use xlink:href='#icon-file-text2'></use></svg></label><input id='data-dfc6e78b-1f4b-40eb-90c2-4c86d2ea2366' class='xr-var-data-in' type='checkbox'><label for='data-dfc6e78b-1f4b-40eb-90c2-4c86d2ea2366' title='Show/Hide data repr'><svg class='icon xr-icon-database'><use xlink:href='#icon-database'></use></svg></label><div class='xr-var-attrs'><dl class='xr-attrs'><dt><span>description :</span></dt><dd>Dissipation at MLD</dd></dl></div><div class='xr-var-data'><pre>[592946 values with dtype=float64]</pre></div></li><li class='xr-var-item'><div class='xr-var-name'><span>sic</span></div><div class='xr-var-dims'>(n_prof)</div><div class='xr-var-dtype'>float64</div><div class='xr-var-preview xr-preview'>...</div><input id='attrs-df281f4f-4ff0-4dc9-b6d3-fdc5311cfa29' class='xr-var-attrs-in' type='checkbox' ><label for='attrs-df281f4f-4ff0-4dc9-b6d3-fdc5311cfa29' title='Show/Hide attributes'><svg class='icon xr-icon-file-text2'><use xlink:href='#icon-file-text2'></use></svg></label><input id='data-1f301ce6-38cd-42fc-ad90-f663a4d6818c' class='xr-var-data-in' type='checkbox'><label for='data-1f301ce6-38cd-42fc-ad90-f663a4d6818c' title='Show/Hide data repr'><svg class='icon xr-icon-database'><use xlink:href='#icon-database'></use></svg></label><div class='xr-var-attrs'><dl class='xr-attrs'><dt><span>long_name :</span></dt><dd>NOAA/NSIDC Climate Data Record of Passive Microwave Daily Southern Hemisphere Sea Ice Concentration</dd><dt><span>standard_name :</span></dt><dd>sea_ice_area_fraction</dd><dt><span>units :</span></dt><dd>1</dd><dt><span>flag_values :</span></dt><dd>[251 252 253 254 255]</dd><dt><span>flag_meanings :</span></dt><dd>pole_hole lakes coastal land_mask missing_data</dd><dt><span>datum :</span></dt><dd>+ellps=urn:ogc:def:crs:EPSG::4326</dd><dt><span>grid_mapping :</span></dt><dd>projection</dd><dt><span>reference :</span></dt><dd>https://nsidc.org/data/g02202/versions/4/</dd><dt><span>ancillary_variables :</span></dt><dd>stdev_of_cdr_seaice_conc qa_of_cdr_seaice_conc</dd><dt><span>valid_range :</span></dt><dd>[  0 100]</dd></dl></div><div class='xr-var-data'><pre>[592946 values with dtype=float64]</pre></div></li></ul></div></li><li class='xr-section-item'><input id='section-9ccfd780-a613-4199-bebc-3e1c08887659' class='xr-section-summary-in' type='checkbox'  ><label for='section-9ccfd780-a613-4199-bebc-3e1c08887659' class='xr-section-summary' >Indexes: <span>(2)</span></label><div class='xr-section-inline-details'></div><div class='xr-section-details'><ul class='xr-var-list'><li class='xr-var-item'><div class='xr-index-name'><div>n_prof</div></div><div class='xr-index-preview'>PandasIndex</div><div></div><input id='index-28581860-5e4e-4cd2-8f3c-9a31bc630059' class='xr-index-data-in' type='checkbox'/><label for='index-28581860-5e4e-4cd2-8f3c-9a31bc630059' title='Show/Hide index repr'><svg class='icon xr-icon-database'><use xlink:href='#icon-database'></use></svg></label><div class='xr-index-data'><pre>PandasIndex(Index([     0,      1,      2,      3,      4,      5,      6,      7,      8,\n",
       "            9,\n",
       "       ...\n",
       "       620283, 620284, 620285, 620286, 620287, 620288, 620289, 620290, 620291,\n",
       "       620292],\n",
       "      dtype=&#x27;int64&#x27;, name=&#x27;n_prof&#x27;, length=592946))</pre></div></li><li class='xr-var-item'><div class='xr-index-name'><div>pres</div></div><div class='xr-index-preview'>PandasIndex</div><div></div><input id='index-eed21142-3b75-49f2-ad60-90c51335ada9' class='xr-index-data-in' type='checkbox'/><label for='index-eed21142-3b75-49f2-ad60-90c51335ada9' title='Show/Hide index repr'><svg class='icon xr-icon-database'><use xlink:href='#icon-database'></use></svg></label><div class='xr-index-data'><pre>PandasIndex(Index([ 10,  12,  14,  16,  18,  20,  22,  24,  26,  28,\n",
       "       ...\n",
       "       382, 384, 386, 388, 390, 392, 394, 396, 398, 400],\n",
       "      dtype=&#x27;int64&#x27;, name=&#x27;pres&#x27;, length=196))</pre></div></li></ul></div></li><li class='xr-section-item'><input id='section-cab8bc09-bcea-400a-a756-5b07df882362' class='xr-section-summary-in' type='checkbox'  checked><label for='section-cab8bc09-bcea-400a-a756-5b07df882362' class='xr-section-summary' >Attributes: <span>(1)</span></label><div class='xr-section-inline-details'></div><div class='xr-section-details'><dl class='xr-attrs'><dt><span>description :</span></dt><dd>Interpolated dataset from 2004 to 2021. Contains MLD from pre-interpolated data. Contains good QC and Wilson et al (2019) QC. Smoothed temp and psal using Gauss smoothing with stand dev=2. Gsw funcs and WW subsequently calculated. Further QC post calculation: NaN any WW vars profiles with a lower boundary deeper than 300dbar; drop any profiles with fewer than 10 datapoints.</dd></dl></div></li></ul></div></div>"
      ],
      "text/plain": [
       "<xarray.Dataset>\n",
       "Dimensions:  (n_prof: 592946, pres: 196)\n",
       "Coordinates:\n",
       "  * n_prof   (n_prof) int64 0 1 2 3 4 5 ... 620288 620289 620290 620291 620292\n",
       "  * pres     (pres) int64 10 12 14 16 18 20 22 ... 388 390 392 394 396 398 400\n",
       "    lon      (n_prof) float64 ...\n",
       "    lat      (n_prof) float64 ...\n",
       "    time     (n_prof) datetime64[ns] ...\n",
       "Data variables: (12/22)\n",
       "    temp     (n_prof, pres) float64 ...\n",
       "    psal     (n_prof, pres) float64 ...\n",
       "    dsource  (n_prof) object ...\n",
       "    mld      (n_prof) float64 ...\n",
       "    asal     (n_prof, pres) float32 ...\n",
       "    ctemp    (n_prof, pres) float32 ...\n",
       "    ...       ...\n",
       "    ww_type  (n_prof) float64 ...\n",
       "    ww_n2    (n_prof) float64 ...\n",
       "    thcc     (n_prof) float64 ...\n",
       "    zust     (n_prof) float64 ...\n",
       "    eps      (n_prof) float64 ...\n",
       "    sic      (n_prof) float64 ...\n",
       "Attributes:\n",
       "    description:  Interpolated dataset from 2004 to 2021. Contains MLD from p..."
      ]
     },
     "execution_count": 2,
     "metadata": {},
     "output_type": "execute_result"
    }
   ],
   "source": [
    "ds = xr.open_dataset('/home/theospira/notebooks/projects/03-WW-timeseries/data/hydrographic_profiles/hydrographic_dataset.nc')\n",
    "ds"
   ]
  },
  {
   "cell_type": "code",
   "execution_count": 6,
   "id": "000f007a-7a32-420b-8335-58ec3ab36d30",
   "metadata": {},
   "outputs": [],
   "source": [
    "for i,d in enumerate(np.unique(ds.dsource)):\n",
    "    idx = np.where(ds.dsource == d)[0]\n",
    "    if d=='SOCCOM':\n",
    "        ds['dsource'][idx] = 1\n",
    "    else:\n",
    "        ds['dsource'][idx] = i+1 \n",
    "\n",
    "ds.dsource.attrs['description'] = \"'Float':1, 'CTD':2, 'Gliders':3, 'MEOP':4,\"\n",
    "ds['dsource'] = ds['dsource'].astype(int)"
   ]
  },
  {
   "cell_type": "code",
   "execution_count": 4,
   "id": "0e3f8f04-ae3b-4882-8736-5b76ebbae133",
   "metadata": {},
   "outputs": [],
   "source": [
    "#ds = xr.open_dataset('/home/theospira/notebooks/projects/WW_climatology/data/hydrographic_profiles/superseded/ww_gauss_smoothed_ds-preDec23.nc')\n",
    "\n",
    "# calculate pressure variables as depth\n",
    "arr = []\n",
    "lat = ds.lat.data\n",
    "for v in ['ww_cp','up_bd','lw_bd']:\n",
    "    arr += gsw.z_from_p(ds[v],lat),\n",
    "\n",
    "ds['ww_cd']   = xr.DataArray(arr[0].copy()*-1)\n",
    "ds['up_bd_z'] = xr.DataArray(arr[1].copy()*-1)\n",
    "ds['lw_bd_z'] = xr.DataArray(arr[2].copy()*-1)\n",
    "ds['thcc_z']  = (ds.lw_bd_z - ds.up_bd_z)\n",
    "\n",
    "# calculate z across dataset\n",
    "p = np.ndarray(ds.ctemp.shape)*np.nan\n",
    "l = np.ndarray(ds.ctemp.shape)*np.nan\n",
    "\n",
    "lat  = ds.lat.data\n",
    "pres = ds.pres.data\n",
    "for i in range(p.shape[0]):\n",
    "    p[i,:] = pres\n",
    "for i in range(l.shape[1]):\n",
    "    l[:,i] = lat\n",
    "\n",
    "ds['z'] = xr.DataArray(gsw.z_from_p(p,l)*-1,dims=ds.ctemp.dims)"
   ]
  },
  {
   "cell_type": "code",
   "execution_count": 7,
   "id": "34f70165-f908-4aab-a51f-c86ad80dc206",
   "metadata": {},
   "outputs": [],
   "source": [
    "tmp = ds[['ctemp','asal','sig']].where(ds.pres<ds.mlp)\n",
    "ds['ml_t']   = tmp.ctemp.mean('pres')\n",
    "ds['ml_s']   = tmp.asal.mean('pres')\n",
    "ds['ml_sig'] = tmp.sig.mean('pres')"
   ]
  },
  {
   "cell_type": "code",
   "execution_count": 14,
   "id": "b2e75013-25b4-475c-a529-b687b8cbad0e",
   "metadata": {},
   "outputs": [],
   "source": [
    "ds.to_netcdf('/home/theospira/notebooks/projects/03-WW-timeseries/data/hydrographic_profiles/hydrographic_profiles_1.nc')"
   ]
  },
  {
   "cell_type": "markdown",
   "id": "5c5a69bf-7ba0-45d0-aaa3-9be1831761c7",
   "metadata": {
    "jp-MarkdownHeadingCollapsed": true,
    "tags": []
   },
   "source": [
    "# gridding funcs"
   ]
  },
  {
   "cell_type": "code",
   "execution_count": 2,
   "id": "042c69d9-7a1c-4c6e-9e3d-c4b89ba0fcfe",
   "metadata": {},
   "outputs": [],
   "source": [
    "sys.path.append('/home/theospira/notebooks/projects/03-WW-timeseries/funcs')\n",
    "from gridding import *"
   ]
  },
  {
   "cell_type": "markdown",
   "id": "75108604-f486-4513-8848-9f8229ebb600",
   "metadata": {
    "jp-MarkdownHeadingCollapsed": true,
    "tags": []
   },
   "source": [
    "# time series gridding "
   ]
  },
  {
   "cell_type": "code",
   "execution_count": 8,
   "id": "42cd3421-d544-470f-bf77-1ba183385f0a",
   "metadata": {},
   "outputs": [],
   "source": [
    "ds_ww = ds.isel(n_prof=np.where(ds.ww_type.notnull())[0])"
   ]
  },
  {
   "cell_type": "code",
   "execution_count": 11,
   "id": "70f3d4c0-c6a4-4889-b41f-06ab52ed2a63",
   "metadata": {},
   "outputs": [
    {
     "data": {
      "text/plain": [
       "array([1., 2.])"
      ]
     },
     "execution_count": 11,
     "metadata": {},
     "output_type": "execute_result"
    }
   ],
   "source": [
    "np.unique(ds_ww.ww_type)"
   ]
  },
  {
   "cell_type": "code",
   "execution_count": 20,
   "id": "a783d038-8087-4d44-ab62-c737b442662e",
   "metadata": {},
   "outputs": [
    {
     "data": {
      "text/plain": [
       "(7, 7)"
      ]
     },
     "execution_count": 20,
     "metadata": {},
     "output_type": "execute_result"
    }
   ],
   "source": [
    "len(ww_vars),len(dvars_3)"
   ]
  },
  {
   "cell_type": "code",
   "execution_count": 13,
   "id": "a4d21c18-b40d-45af-86d0-b501ff92d969",
   "metadata": {},
   "outputs": [
    {
     "data": {
      "application/vnd.jupyter.widget-view+json": {
       "model_id": "c2682373106f42b080b05ec37c6d592a",
       "version_major": 2,
       "version_minor": 0
      },
      "text/plain": [
       "  0%|          | 0/4 [00:00<?, ?it/s]"
      ]
     },
     "metadata": {},
     "output_type": "display_data"
    },
    {
     "data": {
      "application/vnd.jupyter.widget-view+json": {
       "model_id": "8ccfada572d748bb917cdc615e6e2503",
       "version_major": 2,
       "version_minor": 0
      },
      "text/plain": [
       "  0%|          | 0/216 [00:00<?, ?it/s]"
      ]
     },
     "metadata": {},
     "output_type": "display_data"
    },
    {
     "data": {
      "application/vnd.jupyter.widget-view+json": {
       "model_id": "4f7a05836b084869a5e111cacdcae7fd",
       "version_major": 2,
       "version_minor": 0
      },
      "text/plain": [
       "  0%|          | 0/216 [00:00<?, ?it/s]"
      ]
     },
     "metadata": {},
     "output_type": "display_data"
    },
    {
     "data": {
      "application/vnd.jupyter.widget-view+json": {
       "model_id": "136c40930a4d47bab5e2faa20b189741",
       "version_major": 2,
       "version_minor": 0
      },
      "text/plain": [
       "  0%|          | 0/216 [00:00<?, ?it/s]"
      ]
     },
     "metadata": {},
     "output_type": "display_data"
    },
    {
     "data": {
      "application/vnd.jupyter.widget-view+json": {
       "model_id": "4271bfb81bf441eb92785c7e73790547",
       "version_major": 2,
       "version_minor": 0
      },
      "text/plain": [
       "  0%|          | 0/216 [00:00<?, ?it/s]"
      ]
     },
     "metadata": {},
     "output_type": "display_data"
    },
    {
     "data": {
      "application/vnd.jupyter.widget-view+json": {
       "model_id": "c48c2eb13196432c834a60abf87fd12a",
       "version_major": 2,
       "version_minor": 0
      },
      "text/plain": [
       "  0%|          | 0/7 [00:00<?, ?it/s]"
      ]
     },
     "metadata": {},
     "output_type": "display_data"
    },
    {
     "data": {
      "application/vnd.jupyter.widget-view+json": {
       "model_id": "133a83cd03cc4ed2a48994da52aaf968",
       "version_major": 2,
       "version_minor": 0
      },
      "text/plain": [
       "  0%|          | 0/216 [00:00<?, ?it/s]"
      ]
     },
     "metadata": {},
     "output_type": "display_data"
    },
    {
     "data": {
      "application/vnd.jupyter.widget-view+json": {
       "model_id": "c8f6b5d8d8894e04b5763586f3554e48",
       "version_major": 2,
       "version_minor": 0
      },
      "text/plain": [
       "  0%|          | 0/216 [00:00<?, ?it/s]"
      ]
     },
     "metadata": {},
     "output_type": "display_data"
    },
    {
     "data": {
      "application/vnd.jupyter.widget-view+json": {
       "model_id": "f9af164764314bf4b21d12c41120f8d0",
       "version_major": 2,
       "version_minor": 0
      },
      "text/plain": [
       "  0%|          | 0/216 [00:00<?, ?it/s]"
      ]
     },
     "metadata": {},
     "output_type": "display_data"
    },
    {
     "data": {
      "application/vnd.jupyter.widget-view+json": {
       "model_id": "253f5341990e40eb98457b3b3124a593",
       "version_major": 2,
       "version_minor": 0
      },
      "text/plain": [
       "  0%|          | 0/216 [00:00<?, ?it/s]"
      ]
     },
     "metadata": {},
     "output_type": "display_data"
    },
    {
     "data": {
      "application/vnd.jupyter.widget-view+json": {
       "model_id": "24a32552b8a54b668d255b69b2c68ca5",
       "version_major": 2,
       "version_minor": 0
      },
      "text/plain": [
       "  0%|          | 0/216 [00:00<?, ?it/s]"
      ]
     },
     "metadata": {},
     "output_type": "display_data"
    },
    {
     "data": {
      "application/vnd.jupyter.widget-view+json": {
       "model_id": "7b6c7e5b7883478b8172ba3db145fb03",
       "version_major": 2,
       "version_minor": 0
      },
      "text/plain": [
       "  0%|          | 0/216 [00:00<?, ?it/s]"
      ]
     },
     "metadata": {},
     "output_type": "display_data"
    },
    {
     "data": {
      "application/vnd.jupyter.widget-view+json": {
       "model_id": "34a9d4c5c1e24e6bb36b756e73e67e0d",
       "version_major": 2,
       "version_minor": 0
      },
      "text/plain": [
       "  0%|          | 0/216 [00:00<?, ?it/s]"
      ]
     },
     "metadata": {},
     "output_type": "display_data"
    },
    {
     "data": {
      "application/vnd.jupyter.widget-view+json": {
       "model_id": "258a6a04d86f4557802c217463e0d891",
       "version_major": 2,
       "version_minor": 0
      },
      "text/plain": [
       "  0%|          | 0/5 [00:00<?, ?it/s]"
      ]
     },
     "metadata": {},
     "output_type": "display_data"
    },
    {
     "data": {
      "application/vnd.jupyter.widget-view+json": {
       "model_id": "8020125e8c784a1fbecc68732558f007",
       "version_major": 2,
       "version_minor": 0
      },
      "text/plain": [
       "  0%|          | 0/216 [00:00<?, ?it/s]"
      ]
     },
     "metadata": {},
     "output_type": "display_data"
    },
    {
     "data": {
      "application/vnd.jupyter.widget-view+json": {
       "model_id": "589b8cfb9818409898a34f1bfc6a623b",
       "version_major": 2,
       "version_minor": 0
      },
      "text/plain": [
       "  0%|          | 0/216 [00:00<?, ?it/s]"
      ]
     },
     "metadata": {},
     "output_type": "display_data"
    },
    {
     "data": {
      "application/vnd.jupyter.widget-view+json": {
       "model_id": "5220db82d0f140079dc4baa393a392ca",
       "version_major": 2,
       "version_minor": 0
      },
      "text/plain": [
       "  0%|          | 0/216 [00:00<?, ?it/s]"
      ]
     },
     "metadata": {},
     "output_type": "display_data"
    },
    {
     "data": {
      "application/vnd.jupyter.widget-view+json": {
       "model_id": "7169a91f1a124489bd839534d44e89fb",
       "version_major": 2,
       "version_minor": 0
      },
      "text/plain": [
       "  0%|          | 0/216 [00:00<?, ?it/s]"
      ]
     },
     "metadata": {},
     "output_type": "display_data"
    },
    {
     "data": {
      "application/vnd.jupyter.widget-view+json": {
       "model_id": "505a6573edad41868860c8121eb26b4c",
       "version_major": 2,
       "version_minor": 0
      },
      "text/plain": [
       "  0%|          | 0/216 [00:00<?, ?it/s]"
      ]
     },
     "metadata": {},
     "output_type": "display_data"
    },
    {
     "data": {
      "application/vnd.jupyter.widget-view+json": {
       "model_id": "bd109e78fa7b40fd907cb731747d1693",
       "version_major": 2,
       "version_minor": 0
      },
      "text/plain": [
       "  0%|          | 0/216 [00:00<?, ?it/s]"
      ]
     },
     "metadata": {},
     "output_type": "display_data"
    },
    {
     "data": {
      "application/vnd.jupyter.widget-view+json": {
       "model_id": "6d55aaad966345a282a1d08390bcf1cf",
       "version_major": 2,
       "version_minor": 0
      },
      "text/plain": [
       "  0%|          | 0/216 [00:00<?, ?it/s]"
      ]
     },
     "metadata": {},
     "output_type": "display_data"
    },
    {
     "data": {
      "application/vnd.jupyter.widget-view+json": {
       "model_id": "c2da45450d81438cb160304a854b92ba",
       "version_major": 2,
       "version_minor": 0
      },
      "text/plain": [
       "  0%|          | 0/216 [00:00<?, ?it/s]"
      ]
     },
     "metadata": {},
     "output_type": "display_data"
    },
    {
     "data": {
      "application/vnd.jupyter.widget-view+json": {
       "model_id": "b6090a487aa84da6817e09c3aa147908",
       "version_major": 2,
       "version_minor": 0
      },
      "text/plain": [
       "  0%|          | 0/216 [00:00<?, ?it/s]"
      ]
     },
     "metadata": {},
     "output_type": "display_data"
    }
   ],
   "source": [
    "dvars_4 = [] # 4D vars\n",
    "for i in tqdm(['asal', 'ctemp', 'sig','n2']):\n",
    "    dvars_4 += median_gridding_ts(ds[i],),\n",
    "\n",
    "ww_vars = ['up_bd','ww_cp','ww_ct','ww_sa','lw_bd','thcc','ww_n2']\n",
    "dvars_3 = [] # 3D vars\n",
    "for i in tqdm(ww_vars):\n",
    "    dvars_3 += median_gridding_ts(ds_ww[i],),\n",
    "\n",
    "ml_vars = ['ml_t','ml_s','ml_sig','mlp','mld']\n",
    "dvars_ml = [] # ML vars\n",
    "for i in tqdm(ml_vars):\n",
    "    dvars_ml += median_gridding_ts(ds[i],),\n",
    "\n",
    "ww_type = mode_gridding_ts(ds_ww['ww_type'],)\n",
    "n_prof  = count_gridding_ts(ds['n_prof'],)\n",
    "ww_prof = count_gridding_ts(ds_ww['n_prof'],)\n",
    "dsource = mode_gridding_ts(ds['dsource'],)"
   ]
  },
  {
   "cell_type": "code",
   "execution_count": 18,
   "id": "ec8f86f9-14d2-4789-8418-0479ff52fa60",
   "metadata": {},
   "outputs": [
    {
     "data": {
      "text/plain": [
       "'mlp'"
      ]
     },
     "execution_count": 18,
     "metadata": {},
     "output_type": "execute_result"
    }
   ],
   "source": [
    "ml_vars[]"
   ]
  },
  {
   "cell_type": "code",
   "execution_count": 33,
   "id": "e7fe4303-4038-44de-b52c-56c45a32f556",
   "metadata": {},
   "outputs": [
    {
     "name": "stdout",
     "output_type": "stream",
     "text": [
      "0 up_bd\n",
      "1 ww_cp\n",
      "2 ww_ct\n",
      "3 ww_sa\n",
      "4 lw_bd\n",
      "5 thcc\n",
      "6 ww_n2\n"
     ]
    }
   ],
   "source": [
    "# dvars_3\n",
    "for i in range(len(ww_vars)):\n",
    "    print(i, ww_vars[i])"
   ]
  },
  {
   "cell_type": "code",
   "execution_count": 49,
   "id": "0b9ccb1d-4483-49c5-93a6-5103b0db6f7b",
   "metadata": {},
   "outputs": [],
   "source": [
    "x    = 1 \n",
    "time = pd.date_range('2004-01-01', '2022-01-01', freq='1M')\n",
    "p    = ds.pres.data\n",
    "lat  = np.arange(-79,-40+x,x) - x/2\n",
    "lon  = np.arange(-180,180,x) + x/2\n",
    "\n",
    "ds_grid = xr.Dataset(\n",
    "            data_vars = dict(\n",
    "                            ctemp   = (['time','lon','lat','pres'], dvars_4[1].data),\n",
    "                            asal    = (['time','lon','lat','pres'], dvars_4[0].data),\n",
    "                            sig     = (['time','lon','lat','pres'], dvars_4[2].data),\n",
    "                            n2      = (['time','lon','lat','pres'], dvars_4[3].data),\n",
    "                            mld     = (['time', 'lon','lat'], dvars_ml[4].data),\n",
    "                            mlp     = (['time', 'lon','lat'], dvars_ml[3].data),\n",
    "                            ml_t    = (['time', 'lon','lat'], dvars_ml[0].data),\n",
    "                            ml_s    = (['time', 'lon','lat'], dvars_ml[1].data),\n",
    "                            ml_sig  = (['time', 'lon','lat'], dvars_ml[2].data),\n",
    "                            up_bd   = (['time', 'lon','lat'], dvars_3[0].data),\n",
    "                            lw_bd   = (['time', 'lon','lat'], dvars_3[4].data),\n",
    "                            ww_cp   = (['time', 'lon','lat'], dvars_3[1].data),\n",
    "                            ww_ct   = (['time', 'lon','lat'], dvars_3[2].data),\n",
    "                            ww_sa   = (['time', 'lon','lat'], dvars_3[3].data),\n",
    "                            thcc    = (['time', 'lon','lat'], dvars_3[5].data),\n",
    "                            ww_n2   = (['time', 'lon','lat'], dvars_3[6].data),\n",
    "                            ww_type = (['time', 'lon','lat'], ww_type.data),\n",
    "                            dsource = (['time', 'lon','lat'], dsource.data),\n",
    "                            n_prof  = (['time', 'lon','lat'], n_prof.data),\n",
    "                            ww_prof = (['time', 'lon','lat'], ww_prof.data),                \n",
    "                            ),\n",
    "            coords   = dict(\n",
    "                            time    = (['time'], time),\n",
    "                            lon     = (['lon'], lon),\n",
    "                            lat     = (['lat'], lat),\n",
    "                            pres    = (['pres'], p)\n",
    "                            ),\n",
    "            attrs    = dict(description=str(\n",
    "    f\"1 degree grid of median time series along 2dbar pressure interpolated and quality controlled Argo, MEOP, SOCCOM, CTDs, and Gliders data from 2004 to 2021. Contains good QC and Wilson et al (2019) QC. Smoothed temp and psal using Gauss smoothing with stand dev=2. Gsw funcs and WW subsequently calculated. Further QC post calculation: NaN any WW vars profiles with a lower boundary deeper than 300dbar; drop any profiles with fewer than 10 datapoints. Removed vertical profiles by cross referencing temperature profile with mixed layer temperature. If there is not a significant change from the mean ML temperature, we remove the profile (a change of 0.25°C or more for at least 5% of the profile).\"),\n",
    "                           note=\"unless specified, depth-related variables are in pressure space.\")\n",
    "            )\n",
    "\n",
    "ds_grid.n_prof.attrs['description']  = 'total number of profiles per grid cell.'\n",
    "ds_grid.ww_prof.attrs['description'] = 'total number of profiles containing Winter Water per grid cell; note that this is of either type of WW.'\n",
    "ds_grid.ww_type.attrs['description'] = 'mode of WW type per grid cell.'\n",
    "ds_grid.dsource.attrs['description'] = \"'Float':1, 'CTD':2, 'Gliders':3, 'MEOP':4,\"\n",
    "ds_grid.mlp.attrs['description'] = 'mixed layer depth computed in pressure space (mixed layer pressure) using de Boyer Montegut et al. (2004) method.'\n",
    "ds_grid.mld.attrs['description'] = 'mixed layer depth computed by converting MLP to depth (m).'"
   ]
  },
  {
   "cell_type": "code",
   "execution_count": 51,
   "id": "97fedcb1-6f1c-41d7-9316-dddf808a688a",
   "metadata": {},
   "outputs": [],
   "source": [
    "ds_grid.to_netcdf('/home/theospira/notebooks/projects/03-WW-timeseries/data/hydrographic_profiles/gridded-timeseries-ww-recalc1.nc')"
   ]
  },
  {
   "cell_type": "markdown",
   "id": "8e32077d-a658-4913-9f60-6da6ed9b37ca",
   "metadata": {},
   "source": [
    "NOTE: still to be gridded: ww_sig and regrid mlp using all MLs, not just ds_ww MLs"
   ]
  },
  {
   "cell_type": "code",
   "execution_count": 8,
   "id": "223d6ada-0b47-4383-b7eb-1ed7755b87f4",
   "metadata": {},
   "outputs": [
    {
     "data": {
      "application/vnd.jupyter.widget-view+json": {
       "model_id": "85be69939a90435c96446eb27a38e106",
       "version_major": 2,
       "version_minor": 0
      },
      "text/plain": [
       "  0%|          | 0/216 [00:00<?, ?it/s]"
      ]
     },
     "metadata": {},
     "output_type": "display_data"
    },
    {
     "data": {
      "application/vnd.jupyter.widget-view+json": {
       "model_id": "9864eb3e0ed048f9a1137744953a18b6",
       "version_major": 2,
       "version_minor": 0
      },
      "text/plain": [
       "  0%|          | 0/216 [00:00<?, ?it/s]"
      ]
     },
     "metadata": {},
     "output_type": "display_data"
    }
   ],
   "source": [
    "mlp   = median_gridding_ts(ds['mlp'],)\n",
    "sig_c = median_gridding_ts(ds_ww['sig_c'],)"
   ]
  },
  {
   "cell_type": "code",
   "execution_count": 11,
   "id": "61d6ac31-b5f4-4de4-8dd7-98f80f79c56c",
   "metadata": {},
   "outputs": [],
   "source": [
    "np.save('/home/theospira/notebooks/projects/WW-timeseries/data/hydrographic_profiles/gridded-timeseries-mlp.npy',mlp)\n",
    "np.save('/home/theospira/notebooks/projects/WW-timeseries/data/hydrographic_profiles/gridded-timeseries-sig_c.npy',sig_c)"
   ]
  },
  {
   "cell_type": "markdown",
   "id": "cf393ea8-3e3a-4917-9e70-41c08f786f9a",
   "metadata": {},
   "source": [
    "### sum of ML and SS WW per grid cell"
   ]
  },
  {
   "cell_type": "code",
   "execution_count": null,
   "id": "78c40295-8df9-4d93-8eb3-3496a74179a5",
   "metadata": {},
   "outputs": [],
   "source": [
    "def count_ww_profs(dsvar,condn=None):\n",
    "    \n",
    "    t_bins = pd.date_range('2003-12-31', '2022-01-01', freq='1M')\n",
    "    # create empty array\n",
    "    arr = np.ndarray([t_bins.size-1,360,40])*np.nan\n",
    "    \n",
    "    # define lon min and max resp\n",
    "    gs = 1\n",
    "    lon_min = -180\n",
    "    lon_max = 180\n",
    "    lon = np.arange(lon_min,lon_max+gs,gs)\n",
    "    lon_labels = range(0,lon_max-lon_min,gs)\n",
    "    \n",
    "    lat_min = -80\n",
    "    lat_max = -40\n",
    "    lat = np.arange(lat_min,lat_max+gs,gs)\n",
    "    lat_labels = range(0,lat_max-lat_min,gs)\n",
    "    \n",
    "    # group by seasons\n",
    "    var = dsvar.groupby_bins(dsvar.time, bins=t_bins, labels=np.arange(len(t_bins)-1))\n",
    "    \n",
    "    # group into lon bins\n",
    "    for t,gr_t in tqdm(var):\n",
    "        var1 = gr_t.groupby_bins('lon',lon,labels=lon_labels,restore_coord_dims=True)\n",
    "        \n",
    "        # now group into lat bins for each lon group:\n",
    "        for ln,gr_ln in var1:\n",
    "            var2 = gr_ln.groupby_bins('lat',lat,labels=lat_labels,restore_coord_dims=True)\n",
    "            \n",
    "            # now take the mode!\n",
    "            for lt,gr_lt in var2:\n",
    "                if condn!=None:\n",
    "                    arr[t,ln,lt] = np.where(gr_lt==condn)[0].size\n",
    "                else:\n",
    "                    arr[t,ln,lt] = np.where(gr_lt>0)[0].size\n",
    "                    \n",
    "    return arr"
   ]
  },
  {
   "cell_type": "code",
   "execution_count": null,
   "id": "43d06940-b1f5-465f-a413-2d5e8d2b3a16",
   "metadata": {},
   "outputs": [],
   "source": [
    "ww_prof = count_ww_profs(ds_ww['ww_type'],)\n",
    "ml_prof = count_ww_profs(ds_ml['ww_type'],condn=1)\n",
    "ss_prof = count_ww_profs(ds_ss['ww_type'],condn=2)"
   ]
  },
  {
   "cell_type": "code",
   "execution_count": null,
   "id": "602f6287-8a3d-4cdf-8632-cc4df24aee9d",
   "metadata": {},
   "outputs": [],
   "source": [
    "np.save('/home/theospira/notebooks/projects/WW-timeseries/data/hydrographic_profiles/gridded-timeseries-ww_prof.npy',ww_prof)\n",
    "np.save('/home/theospira/notebooks/projects/WW-timeseries/data/hydrographic_profiles/gridded-timeseries-ww_ml_prof.npy',ml_prof)\n",
    "np.save('/home/theospira/notebooks/projects/WW-timeseries/data/hydrographic_profiles/gridded-timeseries-ss_prof.npy',ss_prof)"
   ]
  },
  {
   "cell_type": "markdown",
   "id": "adedffd8-219e-42e4-a562-4f471179fc14",
   "metadata": {
    "jp-MarkdownHeadingCollapsed": true
   },
   "source": [
    "# compute array for seasonal ice zone masking:"
   ]
  },
  {
   "cell_type": "code",
   "execution_count": 3,
   "id": "fd5960b5-f7e4-4876-821f-f2b622272acb",
   "metadata": {},
   "outputs": [],
   "source": [
    "sys.path.append('/home/theospira/notebooks/projects/WW-timeseries/funcs')\n",
    "from plotting import *\n",
    "#from computations import calc_mean_var\n",
    "from import_data import *"
   ]
  },
  {
   "cell_type": "code",
   "execution_count": 6,
   "id": "5784134d-155a-4453-b86d-ff6b17444cdc",
   "metadata": {},
   "outputs": [],
   "source": [
    "def mask_data(ds, t_ref=0, b_ref=2000):\n",
    "    \"\"\"\n",
    "    Mask data, removing on-shelf data and any data further north than the 0°C WW core temperature isotherm.\n",
    "    Remove data from 2004.\n",
    "    \n",
    "    Parameters:\n",
    "    - ds (xarray.Dataset): The dataset containing the data to be masked.\n",
    "    - t_ref (float, optional): Reference temperature value for masking. Default is 0.\n",
    "    - b_ref (int, optional): Reference value for data filtering. Default is 2000.\n",
    "\n",
    "    Returns:\n",
    "    - mask (xarray.DataArray): Boolean array indicating masked cells.\n",
    "    \"\"\"\n",
    "    \n",
    "    # Retain only the 'ww_ct' variable\n",
    "    ds = ds[['ww_ct']]\n",
    "    \n",
    "    # Cut shallow data from the dataset based on a reference value.\n",
    "    ds = cut_shallow_data(ds, b_ref)\n",
    "\n",
    "    # Remove 2004 data\n",
    "    ds = ds.sel(time=slice('2005-01-01', '2022-01-01'))\n",
    "    \n",
    "    # Extract the circumpolar mean warm water core temperature data.\n",
    "    if 'ww_ct' not in ds.data_vars.keys():\n",
    "        tmp = xr.open_dataset('/home/theospira/notebooks/projects/WW-timeseries/data/hydrographic_profiles/gridded-timeseries-ww.nc')['ww_ct'].mean('time')\n",
    "    else:\n",
    "        tmp = ds.ww_ct.mean('time')\n",
    "    \n",
    "    # Add adt to dataset\n",
    "    if 'adt' not in ds.data_vars.keys():\n",
    "        ds = add_adt_to_ds(ds)\n",
    "    \n",
    "    # Find the nearest point to the reference temperature.\n",
    "    tmp2 = (tmp - t_ref).__abs__()\n",
    "    # Select the nearest point to the reference temperature that is south of the Polar Front.\n",
    "    tmp2 = tmp2.where(tmp2.lat <= (ds.adt - -0.58).__abs__().idxmin(dim='lat')).idxmin('lat').rolling({'lon': 5}, min_periods=1).mean()\n",
    "\n",
    "    # Create the mask: True for masked cells, False for unmasked cells\n",
    "    mask = ds.lat > tmp2\n",
    "\n",
    "    return mask"
   ]
  },
  {
   "cell_type": "code",
   "execution_count": null,
   "id": "0e8622a8-6ca2-4d3b-bd64-3d9f33f4ace8",
   "metadata": {},
   "outputs": [],
   "source": [
    "d_path = '/home/theospira/notebooks/projects/WW-timeseries/data/hydrographic_profiles/'\n",
    "ds = xr.open_dataset(d_path+'/ww_gauss_smoothed_ds.nc')\n",
    "ds_grid = xr.open_dataset(d_path+'gridded-timeseries-ww.nc')"
   ]
  },
  {
   "cell_type": "code",
   "execution_count": 7,
   "id": "17110726-28b8-4d8e-b2c8-e85488c6ef50",
   "metadata": {},
   "outputs": [],
   "source": [
    "msk = mask_data(ds_grid)"
   ]
  },
  {
   "cell_type": "code",
   "execution_count": 55,
   "id": "ed21c843-e49c-4821-906f-2285966bf5c8",
   "metadata": {},
   "outputs": [],
   "source": [
    "def hydropgraphic_ds_mask(ds,msk):\n",
    "    \n",
    "    arr = np.zeros(ds.n_prof.size)\n",
    "\n",
    "    lon = ds.lon.data\n",
    "    lat = ds.lat.data\n",
    "    for i in tqdm(range(len(ds.n_prof))):\n",
    "        if msk.sel(lat=lat[i],lon=lon[i],method='nearest'):\n",
    "            arr[i] = 1\n",
    "\n",
    "    return arr.astype(np.int32)"
   ]
  },
  {
   "cell_type": "code",
   "execution_count": null,
   "id": "afa6c096-38fd-4588-ae64-288df1fedf23",
   "metadata": {},
   "outputs": [],
   "source": [
    "arr = hydropgraphic_ds_mask(ds,msk)"
   ]
  },
  {
   "cell_type": "code",
   "execution_count": 37,
   "id": "7fbf010d-ec99-42ec-9b1c-c32fa80edb7f",
   "metadata": {},
   "outputs": [],
   "source": [
    "np.save(d_path+'masked_arr.npy',arr)"
   ]
  }
 ],
 "metadata": {
  "kernelspec": {
   "display_name": "Python 3 (ipykernel)",
   "language": "python",
   "name": "python3"
  },
  "language_info": {
   "codemirror_mode": {
    "name": "ipython",
    "version": 3
   },
   "file_extension": ".py",
   "mimetype": "text/x-python",
   "name": "python",
   "nbconvert_exporter": "python",
   "pygments_lexer": "ipython3",
   "version": "3.11.5"
  }
 },
 "nbformat": 4,
 "nbformat_minor": 5
}
